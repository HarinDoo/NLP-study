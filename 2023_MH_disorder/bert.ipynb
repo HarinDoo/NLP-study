{
 "cells": [
  {
   "cell_type": "code",
   "execution_count": 2,
   "metadata": {},
   "outputs": [
    {
     "name": "stderr",
     "output_type": "stream",
     "text": [
      "2023-12-18 21:03:00.975887: I tensorflow/core/platform/cpu_feature_guard.cc:193] This TensorFlow binary is optimized with oneAPI Deep Neural Network Library (oneDNN) to use the following CPU instructions in performance-critical operations:  AVX2 AVX512F AVX512_VNNI FMA\n",
      "To enable them in other operations, rebuild TensorFlow with the appropriate compiler flags.\n",
      "2023-12-18 21:03:01.249276: I tensorflow/core/util/util.cc:169] oneDNN custom operations are on. You may see slightly different numerical results due to floating-point round-off errors from different computation orders. To turn them off, set the environment variable `TF_ENABLE_ONEDNN_OPTS=0`.\n",
      "2023-12-18 21:03:01.294056: E tensorflow/stream_executor/cuda/cuda_blas.cc:2981] Unable to register cuBLAS factory: Attempting to register factory for plugin cuBLAS when one has already been registered\n",
      "2023-12-18 21:03:02.043504: W tensorflow/stream_executor/platform/default/dso_loader.cc:64] Could not load dynamic library 'libnvinfer.so.7'; dlerror: libnvinfer.so.7: cannot open shared object file: No such file or directory; LD_LIBRARY_PATH: /opt/rh/devtoolset-8/root/usr/lib64:/opt/rh/devtoolset-8/root/usr/lib:/opt/rh/devtoolset-8/root/usr/lib64/dyninst:/opt/rh/devtoolset-8/root/usr/lib/dyninst:/opt/rh/devtoolset-8/root/usr/lib64:/opt/rh/devtoolset-8/root/usr/lib:/usr/local/cuda/lib64::/opt/rh/devtoolset-8/root/usr/lib64:/opt/rh/devtoolset-8/root/usr/lib:/opt/rh/devtoolset-8/root/usr/lib64/dyninst:/opt/rh/devtoolset-8/root/usr/lib/dyninst:/opt/rh/devtoolset-8/root/usr/lib64:/opt/rh/devtoolset-8/root/usr/lib:/opt/rh/devtoolset-8/root/usr/lib64:/opt/rh/devtoolset-8/root/usr/lib:/opt/rh/devtoolset-8/root/usr/lib64/dyninst:/opt/rh/devtoolset-8/root/usr/lib/dyninst:/opt/rh/devtoolset-8/root/usr/lib64:/opt/rh/devtoolset-8/root/usr/lib:/usr/local/cuda/lib64:\n",
      "2023-12-18 21:03:02.043640: W tensorflow/stream_executor/platform/default/dso_loader.cc:64] Could not load dynamic library 'libnvinfer_plugin.so.7'; dlerror: libnvinfer_plugin.so.7: cannot open shared object file: No such file or directory; LD_LIBRARY_PATH: /opt/rh/devtoolset-8/root/usr/lib64:/opt/rh/devtoolset-8/root/usr/lib:/opt/rh/devtoolset-8/root/usr/lib64/dyninst:/opt/rh/devtoolset-8/root/usr/lib/dyninst:/opt/rh/devtoolset-8/root/usr/lib64:/opt/rh/devtoolset-8/root/usr/lib:/usr/local/cuda/lib64::/opt/rh/devtoolset-8/root/usr/lib64:/opt/rh/devtoolset-8/root/usr/lib:/opt/rh/devtoolset-8/root/usr/lib64/dyninst:/opt/rh/devtoolset-8/root/usr/lib/dyninst:/opt/rh/devtoolset-8/root/usr/lib64:/opt/rh/devtoolset-8/root/usr/lib:/opt/rh/devtoolset-8/root/usr/lib64:/opt/rh/devtoolset-8/root/usr/lib:/opt/rh/devtoolset-8/root/usr/lib64/dyninst:/opt/rh/devtoolset-8/root/usr/lib/dyninst:/opt/rh/devtoolset-8/root/usr/lib64:/opt/rh/devtoolset-8/root/usr/lib:/usr/local/cuda/lib64:\n",
      "2023-12-18 21:03:02.043651: W tensorflow/compiler/tf2tensorrt/utils/py_utils.cc:38] TF-TRT Warning: Cannot dlopen some TensorRT libraries. If you would like to use Nvidia GPU with TensorRT, please make sure the missing libraries mentioned above are installed properly.\n"
     ]
    }
   ],
   "source": [
    "import pandas as pd\n",
    "import torch\n",
    "import numpy as np\n",
    "import matplotlib.pyplot as plt\n",
    "import random\n",
    "from imblearn.over_sampling import RandomOverSampler\n",
    "from sklearn.model_selection import train_test_split\n",
    "from torch.utils.data import DataLoader\n",
    "from transformers import Trainer\n",
    "from transformers import DebertaTokenizer, AlbertTokenizer, BertTokenizer, RobertaTokenizer\n",
    "from transformers import DebertaForSequenceClassification, AlbertForSequenceClassification, BertForSequenceClassification, RobertaForSequenceClassification\n",
    "from transformers import TrainingArguments\n",
    "from sklearn.metrics import f1_score, precision_score, recall_score, accuracy_score, roc_auc_score, average_precision_score\n",
    "\n"
   ]
  },
  {
   "cell_type": "code",
   "execution_count": 3,
   "metadata": {},
   "outputs": [],
   "source": [
    "# set random seed \n",
    "def set_seed(random_seed):\n",
    "    torch.manual_seed(random_seed)\n",
    "    torch.cuda.manual_seed(random_seed)\n",
    "    torch.cuda.manual_seed_all(random_seed)  # if use multi-GPU\n",
    "    torch.backends.cudnn.deterministic = True\n",
    "    torch.backends.cudnn.benchmark = False\n",
    "    np.random.seed(random_seed)\n",
    "    random.seed(random_seed)\n",
    "    \n",
    "random_seed = 42\n",
    "set_seed(random_seed)"
   ]
  },
  {
   "cell_type": "code",
   "execution_count": 4,
   "metadata": {},
   "outputs": [
    {
     "data": {
      "text/plain": [
       "depression2_norm2                         2063\n",
       "anxiety2_norm2                             597\n",
       "borderline personality disorder2_norm2     537\n",
       "bipolar2_norm2                             248\n",
       "Name: label, dtype: int64"
      ]
     },
     "execution_count": 4,
     "metadata": {},
     "output_type": "execute_result"
    }
   ],
   "source": [
    "df = pd.read_csv('/home/dooharin/study/final_projects/final_dataf (1).csv', encoding='CP949')\n",
    "new_df = df[['clean_text','max_disorder3']]\n",
    "new_df.columns = ['text','label']\n",
    "new_df.label.value_counts()"
   ]
  },
  {
   "cell_type": "code",
   "execution_count": 5,
   "metadata": {},
   "outputs": [
    {
     "name": "stderr",
     "output_type": "stream",
     "text": [
      "/tmp/ipykernel_257703/4104394683.py:8: SettingWithCopyWarning: \n",
      "A value is trying to be set on a copy of a slice from a DataFrame.\n",
      "Try using .loc[row_indexer,col_indexer] = value instead\n",
      "\n",
      "See the caveats in the documentation: https://pandas.pydata.org/pandas-docs/stable/user_guide/indexing.html#returning-a-view-versus-a-copy\n",
      "  new_df['label'] = new_df['label'].replace(disorder_mapping)\n"
     ]
    },
    {
     "data": {
      "text/plain": [
       "0.0    2063\n",
       "1.0     597\n",
       "3.0     537\n",
       "2.0     248\n",
       "Name: label, dtype: int64"
      ]
     },
     "execution_count": 5,
     "metadata": {},
     "output_type": "execute_result"
    }
   ],
   "source": [
    "disorder_mapping = {\n",
    "    \"depression2_norm2\": 0,\n",
    "    \"anxiety2_norm2\": 1,\n",
    "    \"bipolar2_norm2\": 2,\n",
    "    \"borderline personality disorder2_norm2\": 3,\n",
    "}\n",
    "\n",
    "new_df['label'] = new_df['label'].replace(disorder_mapping)\n",
    "new_df.label.value_counts()"
   ]
  },
  {
   "cell_type": "code",
   "execution_count": 6,
   "metadata": {},
   "outputs": [
    {
     "data": {
      "text/plain": [
       "0"
      ]
     },
     "execution_count": 6,
     "metadata": {},
     "output_type": "execute_result"
    }
   ],
   "source": [
    "new_df = new_df.dropna(axis=0)\n",
    "pd.isnull(new_df['label']).sum()"
   ]
  },
  {
   "cell_type": "code",
   "execution_count": 7,
   "metadata": {},
   "outputs": [],
   "source": [
    "#tokenizing\n",
    "tokenizer = BertTokenizer.from_pretrained(\"bert-base-uncased\")\n",
    "encodings = tokenizer(new_df['text'].tolist(), truncation=True, padding=True, max_length=512)\n",
    "labels = new_df['label'].tolist()\n",
    "\n",
    "# Extract 'input_ids' and 'attention_mask' from the encodings\n",
    "input_ids = encodings['input_ids']\n",
    "attention_masks = encodings['attention_mask']\n",
    "\n",
    "# Split the 'input_ids', 'attention_mask', and labels into training and testing sets\n",
    "train_input_ids, test_input_ids, train_attention_masks, test_attention_masks, train_labels, test_labels = train_test_split(\n",
    "    input_ids, attention_masks, labels, test_size=0.2\n",
    ")"
   ]
  },
  {
   "cell_type": "code",
   "execution_count": 8,
   "metadata": {},
   "outputs": [
    {
     "name": "stdout",
     "output_type": "stream",
     "text": [
      "0 : 1652 / 1 : 473 / 2 : 193 / 3 : 438\n",
      "0 : 411 / 1 : 124 / 2 : 55 / 3 : 99\n"
     ]
    }
   ],
   "source": [
    "print(f\"0 : {train_labels.count(0)} / 1 : {train_labels.count(1)} / 2 : {train_labels.count(2)} / 3 : {train_labels.count(3)}\")\n",
    "print(f\"0 : {test_labels.count(0)} / 1 : {test_labels.count(1)} / 2 : {test_labels.count(2)} / 3 : {test_labels.count(3)}\")\n"
   ]
  },
  {
   "cell_type": "code",
   "execution_count": 9,
   "metadata": {},
   "outputs": [],
   "source": [
    "\n",
    "class DepressionDataset(torch.utils.data.Dataset):\n",
    "    def __init__(self, input_ids, attention_masks, labels):\n",
    "        self.input_ids = input_ids\n",
    "        self.attention_masks = attention_masks\n",
    "        self.labels = labels\n",
    "\n",
    "    def __getitem__(self, idx):\n",
    "        return {\n",
    "            'input_ids': torch.tensor(self.input_ids[idx], dtype=torch.long),\n",
    "            'attention_mask': torch.tensor(self.attention_masks[idx], dtype=torch.long),\n",
    "            'labels': torch.tensor(self.labels[idx], dtype=torch.long)\n",
    "        }\n",
    "\n",
    "    def __len__(self):\n",
    "        return len(self.labels)\n",
    "\n",
    "# Create training and validation datasets\n",
    "train_dataset = DepressionDataset(train_input_ids, train_attention_masks, train_labels)\n",
    "test_dataset = DepressionDataset(test_input_ids, test_attention_masks, test_labels)"
   ]
  },
  {
   "cell_type": "code",
   "execution_count": 10,
   "metadata": {},
   "outputs": [
    {
     "data": {
      "application/vnd.jupyter.widget-view+json": {
       "model_id": "dcf13e52c58742c18679aa6391f54758",
       "version_major": 2,
       "version_minor": 0
      },
      "text/plain": [
       "Downloading:   0%|          | 0.00/420M [00:00<?, ?B/s]"
      ]
     },
     "metadata": {},
     "output_type": "display_data"
    },
    {
     "name": "stderr",
     "output_type": "stream",
     "text": [
      "Some weights of the model checkpoint at bert-base-uncased were not used when initializing BertForSequenceClassification: ['cls.seq_relationship.weight', 'cls.predictions.decoder.weight', 'cls.predictions.bias', 'cls.seq_relationship.bias', 'cls.predictions.transform.dense.bias', 'cls.predictions.transform.LayerNorm.bias', 'cls.predictions.transform.LayerNorm.weight', 'cls.predictions.transform.dense.weight']\n",
      "- This IS expected if you are initializing BertForSequenceClassification from the checkpoint of a model trained on another task or with another architecture (e.g. initializing a BertForSequenceClassification model from a BertForPreTraining model).\n",
      "- This IS NOT expected if you are initializing BertForSequenceClassification from the checkpoint of a model that you expect to be exactly identical (initializing a BertForSequenceClassification model from a BertForSequenceClassification model).\n",
      "Some weights of BertForSequenceClassification were not initialized from the model checkpoint at bert-base-uncased and are newly initialized: ['classifier.weight', 'classifier.bias']\n",
      "You should probably TRAIN this model on a down-stream task to be able to use it for predictions and inference.\n"
     ]
    }
   ],
   "source": [
    "import os\n",
    "\n",
    "os.environ['CUDA_VISIBLE_DEVICES'] = '0'\n",
    "model = BertForSequenceClassification.from_pretrained(\"bert-base-uncased\", num_labels=4)\n",
    "\n",
    "training_args = TrainingArguments(\n",
    "    output_dir='/home/dooharin/study/final_projects/results_1218/multiclass/bert/',          # output directory for model checkpoints\n",
    "    num_train_epochs=5,              # number of training epochs\n",
    "    per_device_train_batch_size = 16,  # batch size for training\n",
    "    per_device_eval_batch_size=8,   # batch size for evaluation\n",
    "    warmup_steps=0,                # number of warmup steps\n",
    "    weight_decay=1e-8,               # strength of weight decay\n",
    "    logging_dir='/home/dooharin/study/final_projects/results_1218/multiclass/bert/',            # directory for storing logs\n",
    "    logging_steps=100,              # log saving step.\n",
    "    evaluation_strategy=\"epoch\",     # evaluate each `logging_steps`,\n",
    "    learning_rate=2e-5,              # learning rate\n",
    "\n",
    ")\n"
   ]
  },
  {
   "cell_type": "code",
   "execution_count": 11,
   "metadata": {},
   "outputs": [],
   "source": [
    "from sklearn.metrics import f1_score, precision_score, recall_score\n",
    "from sklearn.metrics import accuracy_score, roc_auc_score, average_precision_score\n",
    "from sklearn.preprocessing import label_binarize\n",
    "import numpy as np\n",
    "\n",
    "def compute_metrics_multiclass(p, num_classes=4):  \n",
    "    predictions, labels = p\n",
    "    predictions = np.argmax(predictions, axis=1)\n",
    "\n",
    "    f1 = f1_score(labels, predictions, average='macro')\n",
    "    precision = precision_score(labels, predictions, average='macro')\n",
    "    recall = recall_score(labels, predictions, average='macro')\n",
    "    acc = accuracy_score(labels, predictions)\n",
    "\n",
    "    labels_binarized = label_binarize(labels, classes=range(num_classes))\n",
    "    predictions_binarized = label_binarize(predictions, classes=range(num_classes))\n",
    "\n",
    "    auroc = roc_auc_score(labels_binarized, predictions_binarized, multi_class='ovr')\n",
    "    avgprc = average_precision_score(labels_binarized, predictions_binarized)\n",
    "\n",
    "    return {\n",
    "        \"acc\": acc, \n",
    "        \"f1\": f1, \n",
    "        \"precision\": precision, \n",
    "        \"recall\": recall, \n",
    "        \"auroc\": auroc, \n",
    "        \"avgprc\": avgprc\n",
    "    }\n"
   ]
  },
  {
   "cell_type": "code",
   "execution_count": 12,
   "metadata": {},
   "outputs": [
    {
     "name": "stderr",
     "output_type": "stream",
     "text": [
      "/home/dooharin/.pyenv/versions/3.9.8/lib/python3.9/site-packages/transformers/optimization.py:306: FutureWarning: This implementation of AdamW is deprecated and will be removed in a future version. Use the PyTorch implementation torch.optim.AdamW instead, or set `no_deprecation_warning=True` to disable this warning\n",
      "  warnings.warn(\n",
      "***** Running training *****\n",
      "  Num examples = 2756\n",
      "  Num Epochs = 5\n",
      "  Instantaneous batch size per device = 16\n",
      "  Total train batch size (w. parallel, distributed & accumulation) = 16\n",
      "  Gradient Accumulation steps = 1\n",
      "  Total optimization steps = 865\n",
      "/tmp/ipykernel_257703/958495449.py:11: DeprecationWarning: an integer is required (got type float).  Implicit conversion to integers using __int__ is deprecated, and may be removed in a future version of Python.\n",
      "  'labels': torch.tensor(self.labels[idx], dtype=torch.long)\n"
     ]
    },
    {
     "data": {
      "text/html": [
       "\n",
       "    <div>\n",
       "      \n",
       "      <progress value='865' max='865' style='width:300px; height:20px; vertical-align: middle;'></progress>\n",
       "      [865/865 08:49, Epoch 5/5]\n",
       "    </div>\n",
       "    <table border=\"1\" class=\"dataframe\">\n",
       "  <thead>\n",
       " <tr style=\"text-align: left;\">\n",
       "      <th>Epoch</th>\n",
       "      <th>Training Loss</th>\n",
       "      <th>Validation Loss</th>\n",
       "      <th>Acc</th>\n",
       "      <th>F1</th>\n",
       "      <th>Precision</th>\n",
       "      <th>Recall</th>\n",
       "      <th>Auroc</th>\n",
       "      <th>Avgprc</th>\n",
       "    </tr>\n",
       "  </thead>\n",
       "  <tbody>\n",
       "    <tr>\n",
       "      <td>1</td>\n",
       "      <td>0.895600</td>\n",
       "      <td>0.780898</td>\n",
       "      <td>0.682148</td>\n",
       "      <td>0.452138</td>\n",
       "      <td>0.685796</td>\n",
       "      <td>0.485523</td>\n",
       "      <td>0.672533</td>\n",
       "      <td>0.382045</td>\n",
       "    </tr>\n",
       "    <tr>\n",
       "      <td>2</td>\n",
       "      <td>0.647900</td>\n",
       "      <td>0.732419</td>\n",
       "      <td>0.689405</td>\n",
       "      <td>0.523417</td>\n",
       "      <td>0.558327</td>\n",
       "      <td>0.535317</td>\n",
       "      <td>0.705495</td>\n",
       "      <td>0.412348</td>\n",
       "    </tr>\n",
       "    <tr>\n",
       "      <td>3</td>\n",
       "      <td>0.536700</td>\n",
       "      <td>0.716212</td>\n",
       "      <td>0.705370</td>\n",
       "      <td>0.544111</td>\n",
       "      <td>0.556069</td>\n",
       "      <td>0.551679</td>\n",
       "      <td>0.717408</td>\n",
       "      <td>0.424644</td>\n",
       "    </tr>\n",
       "    <tr>\n",
       "      <td>4</td>\n",
       "      <td>0.435600</td>\n",
       "      <td>0.726789</td>\n",
       "      <td>0.712627</td>\n",
       "      <td>0.534636</td>\n",
       "      <td>0.561437</td>\n",
       "      <td>0.546863</td>\n",
       "      <td>0.713938</td>\n",
       "      <td>0.425097</td>\n",
       "    </tr>\n",
       "    <tr>\n",
       "      <td>5</td>\n",
       "      <td>0.326900</td>\n",
       "      <td>0.754207</td>\n",
       "      <td>0.712627</td>\n",
       "      <td>0.555024</td>\n",
       "      <td>0.579495</td>\n",
       "      <td>0.555333</td>\n",
       "      <td>0.718175</td>\n",
       "      <td>0.430246</td>\n",
       "    </tr>\n",
       "  </tbody>\n",
       "</table><p>"
      ],
      "text/plain": [
       "<IPython.core.display.HTML object>"
      ]
     },
     "metadata": {},
     "output_type": "display_data"
    },
    {
     "name": "stderr",
     "output_type": "stream",
     "text": [
      "***** Running Evaluation *****\n",
      "  Num examples = 689\n",
      "  Batch size = 8\n",
      "/tmp/ipykernel_257703/958495449.py:11: DeprecationWarning: an integer is required (got type float).  Implicit conversion to integers using __int__ is deprecated, and may be removed in a future version of Python.\n",
      "  'labels': torch.tensor(self.labels[idx], dtype=torch.long)\n",
      "***** Running Evaluation *****\n",
      "  Num examples = 689\n",
      "  Batch size = 8\n",
      "/tmp/ipykernel_257703/958495449.py:11: DeprecationWarning: an integer is required (got type float).  Implicit conversion to integers using __int__ is deprecated, and may be removed in a future version of Python.\n",
      "  'labels': torch.tensor(self.labels[idx], dtype=torch.long)\n",
      "Saving model checkpoint to /home/dooharin/study/final_projects/results_1218/multiclass/bert/checkpoint-500\n",
      "Configuration saved in /home/dooharin/study/final_projects/results_1218/multiclass/bert/checkpoint-500/config.json\n",
      "Model weights saved in /home/dooharin/study/final_projects/results_1218/multiclass/bert/checkpoint-500/pytorch_model.bin\n",
      "/tmp/ipykernel_257703/958495449.py:11: DeprecationWarning: an integer is required (got type float).  Implicit conversion to integers using __int__ is deprecated, and may be removed in a future version of Python.\n",
      "  'labels': torch.tensor(self.labels[idx], dtype=torch.long)\n",
      "***** Running Evaluation *****\n",
      "  Num examples = 689\n",
      "  Batch size = 8\n",
      "/tmp/ipykernel_257703/958495449.py:11: DeprecationWarning: an integer is required (got type float).  Implicit conversion to integers using __int__ is deprecated, and may be removed in a future version of Python.\n",
      "  'labels': torch.tensor(self.labels[idx], dtype=torch.long)\n",
      "***** Running Evaluation *****\n",
      "  Num examples = 689\n",
      "  Batch size = 8\n",
      "/tmp/ipykernel_257703/958495449.py:11: DeprecationWarning: an integer is required (got type float).  Implicit conversion to integers using __int__ is deprecated, and may be removed in a future version of Python.\n",
      "  'labels': torch.tensor(self.labels[idx], dtype=torch.long)\n",
      "***** Running Evaluation *****\n",
      "  Num examples = 689\n",
      "  Batch size = 8\n",
      "\n",
      "\n",
      "Training completed. Do not forget to share your model on huggingface.co/models =)\n",
      "\n",
      "\n"
     ]
    },
    {
     "data": {
      "text/plain": [
       "TrainOutput(global_step=865, training_loss=0.5617001638247099, metrics={'train_runtime': 531.2826, 'train_samples_per_second': 25.937, 'train_steps_per_second': 1.628, 'total_flos': 3625735449722880.0, 'train_loss': 0.5617001638247099, 'epoch': 5.0})"
      ]
     },
     "execution_count": 12,
     "metadata": {},
     "output_type": "execute_result"
    }
   ],
   "source": [
    "def compute_metrics_wrapper(p):\n",
    "    return compute_metrics_multiclass(p, num_classes=4)\n",
    "\n",
    "trainer = Trainer(\n",
    "    model=model,\n",
    "    args=training_args,\n",
    "    train_dataset=train_dataset,\n",
    "    eval_dataset=test_dataset,\n",
    "    compute_metrics=compute_metrics_wrapper  # We will define compute_metrics function later\n",
    ")\n",
    "trainer.train() #log tensorboard --logdir /home/dooharin/study/final_projects/logs --host 0.0.0.0\n"
   ]
  },
  {
   "cell_type": "code",
   "execution_count": 13,
   "metadata": {},
   "outputs": [
    {
     "name": "stderr",
     "output_type": "stream",
     "text": [
      "***** Running Evaluation *****\n",
      "  Num examples = 689\n",
      "  Batch size = 8\n",
      "/tmp/ipykernel_257703/958495449.py:11: DeprecationWarning: an integer is required (got type float).  Implicit conversion to integers using __int__ is deprecated, and may be removed in a future version of Python.\n",
      "  'labels': torch.tensor(self.labels[idx], dtype=torch.long)\n"
     ]
    },
    {
     "data": {
      "text/html": [
       "\n",
       "    <div>\n",
       "      \n",
       "      <progress value='174' max='87' style='width:300px; height:20px; vertical-align: middle;'></progress>\n",
       "      [87/87 00:16]\n",
       "    </div>\n",
       "    "
      ],
      "text/plain": [
       "<IPython.core.display.HTML object>"
      ]
     },
     "metadata": {},
     "output_type": "display_data"
    },
    {
     "name": "stdout",
     "output_type": "stream",
     "text": [
      "{'eval_loss': 0.7542070746421814, 'eval_acc': 0.7126269956458636, 'eval_f1': 0.5550243599851468, 'eval_precision': 0.5794951612024393, 'eval_recall': 0.5553331169001053, 'eval_auroc': 0.7181752982100553, 'eval_avgprc': 0.4302458061226635, 'eval_runtime': 7.5645, 'eval_samples_per_second': 91.084, 'eval_steps_per_second': 11.501, 'epoch': 5.0}\n"
     ]
    }
   ],
   "source": [
    "# Evaluate the model\n",
    "results = trainer.evaluate(test_dataset)\n",
    "print(results)"
   ]
  },
  {
   "cell_type": "code",
   "execution_count": 14,
   "metadata": {},
   "outputs": [
    {
     "name": "stderr",
     "output_type": "stream",
     "text": [
      "***** Running Prediction *****\n",
      "  Num examples = 689\n",
      "  Batch size = 8\n",
      "/tmp/ipykernel_257703/958495449.py:11: DeprecationWarning: an integer is required (got type float).  Implicit conversion to integers using __int__ is deprecated, and may be removed in a future version of Python.\n",
      "  'labels': torch.tensor(self.labels[idx], dtype=torch.long)\n"
     ]
    }
   ],
   "source": [
    "# Generate predictions\n",
    "predictions_output = trainer.predict(test_dataset)\n",
    "\n",
    "# Extract the predictions and true labels\n",
    "predictions = np.argmax(predictions_output.predictions, axis=-1)\n",
    "true_labels = predictions_output.label_ids\n"
   ]
  },
  {
   "cell_type": "code",
   "execution_count": 15,
   "metadata": {},
   "outputs": [
    {
     "name": "stdout",
     "output_type": "stream",
     "text": [
      "   True_Labels  Predictions\n",
      "0            0            0\n",
      "1            0            0\n",
      "2            0            0\n",
      "3            0            0\n",
      "4            0            0\n"
     ]
    }
   ],
   "source": [
    "df_results = pd.DataFrame({'True_Labels': true_labels, 'Predictions': predictions})\n",
    "\n",
    "# Display the DataFrame\n",
    "print(df_results.head())"
   ]
  },
  {
   "cell_type": "code",
   "execution_count": 16,
   "metadata": {},
   "outputs": [
    {
     "data": {
      "image/png": "[encoded data removed]",
      "text/plain": [
       "<Figure size 640x480 with 2 Axes>"
      ]
     },
     "metadata": {},
     "output_type": "display_data"
    }
   ],
   "source": [
    "from sklearn.metrics import confusion_matrix\n",
    "import seaborn as sns\n",
    "import matplotlib.pyplot as plt\n",
    "\n",
    "# Compute confusion matrix\n",
    "conf_matrix = confusion_matrix(df_results['True_Labels'], df_results['Predictions'])\n",
    "\n",
    "# Plot the confusion matrix\n",
    "sns.heatmap(conf_matrix, annot=True, fmt='g')\n",
    "plt.xlabel('Predicted Labels')\n",
    "plt.ylabel('True Labels')\n",
    "plt.show()\n"
   ]
  }
 ],
 "metadata": {
  "kernelspec": {
   "display_name": "Python 3",
   "language": "python",
   "name": "python3"
  },
  "language_info": {
   "codemirror_mode": {
    "name": "ipython",
    "version": 3
   },
   "file_extension": ".py",
   "mimetype": "text/x-python",
   "name": "python",
   "nbconvert_exporter": "python",
   "pygments_lexer": "ipython3",
   "version": "3.9.8"
  }
 },
 "nbformat": 4,
 "nbformat_minor": 2
}
